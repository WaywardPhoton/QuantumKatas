{
 "cells": [
  {
   "cell_type": "markdown",
   "id": "e975a050",
   "metadata": {},
   "source": [
    "# QFT Kata Workbook\n",
    "\n",
    "**What is this workbook?**\n",
    "A workbook is a collection of problems, accompanied by solutions to them. \n",
    "The explanations focus on the logical steps required to solve a problem; they illustrate the concepts that need to be applied to come up with a solution to the problem, explaining the mathematical steps required. \n",
    "\n",
    "Note that a workbook should not be the primary source of knowledge on the subject matter; it assumes that you've already read a tutorial or a textbook and that you are now seeking to improve your problem-solving skills. You should attempt solving the tasks of the respective kata first, and turn to the workbook only if stuck. While a textbook emphasizes knowledge acquisition, a workbook emphasizes skill acquisition.\n",
    "\n",
    "This workbook describes the solutions to the problems offered in the [QFT kata](./QFT.ipynb). \n",
    "Since the tasks are offered as programming problems, the explanations also cover some elements of Q# that might be non-obvious for a first-time user.\n",
    "\n",
    "**What you should know for this workbook**\n",
    "\n",
    "You should be familiar with the following concepts before tackling the QFT kata (and this workbook):\n",
    "1. Basic linear algebra\n",
    "2. The concept of qubit and multi-qubit systems\n",
    "3. Single-qubit and multi-qubit quantum gates\n",
    "4. The discrete Fourier transform (DFT) "
   ]
  },
  {
   "cell_type": "markdown",
   "id": "cbac274b",
   "metadata": {},
   "source": [
    "## Part I. Implementing Quantum Fourier Transform\n",
    "\n",
    "This sequence of tasks uses the implementation of QFT described in Nielsen & Chuang.\n",
    "All numbers in this kata use big endian encoding: most significant bit of the number\n",
    " is stored in the first (leftmost) bit/qubit.\n",
    " \n",
    " What this means is that we can represent a state in reversed bit-string format: <br><br>\n",
    " $|x\\rangle = x_1x_2..x_n$ = $x_12^{n-1} + x_22^{n-2}+...x_n2^{0}$\n",
    " \n",
    " We can also make use of the notation for decimals in binary format: \n",
    " \n",
    " $0.x_1x_2...x_n = \\frac{x_1}{2^{-1}}+ \\frac{x_2}{2^{-2}}+...\\frac{x_n}{2^{n}}$\n",
    " \n",
    " "
   ]
  },
  {
   "cell_type": "markdown",
   "id": "24e6fdd1",
   "metadata": {},
   "source": [
    "### Task 1.1. 1-qubit QFT\n",
    "\n",
    "**Input:** \n",
    "\n",
    "  A qubit in state $|\\psi\\rangle = x_0 |0\\rangle + x_1 |1\\rangle$.\n",
    "\n",
    "**Goal:**\n",
    "\n",
    "Apply QFT to this qubit, i.e., transform it to a state\n",
    "$\\frac{1}{\\sqrt{2}} \\big((x_0 + x_1) |0\\rangle + (x_0 - x_1) |1\\rangle\\big)$.\n",
    "\n",
    "In other words, transform a basis state $|j\\rangle$ into a state $\\frac{1}{\\sqrt{2}} \\big(|0\\rangle + e^{2\\pi i \\cdot \\frac{j}{2}}|1\\rangle\\big)$ .\n"
   ]
  },
  {
   "cell_type": "markdown",
   "id": "4a2e184d",
   "metadata": {},
   "source": [
    "### Solution\n",
    "\n",
    "First, notice that we are dealing with a *single* qubit, which has $N = 2$ possible basis states. \n",
    "\n",
    "The transformation of a state $x_0 |0\\rangle + x_1 |1\\rangle$ to a state $\\frac{1}{\\sqrt{2}} \\big((x_0 + x_1) |0\\rangle + (x_0 - x_1) |1\\rangle\\big)$ is actually just the expression for the transformation of an arbitrary state in the Z basis (a.k.a. the computational basis) to one in the X basis. \n",
    "\n",
    "For a starting state $|0\\rangle$, $x_0=1$ and $x_1=0$, so the new state will be  $\\frac{1}{\\sqrt{2}} \\big(|0\\rangle +|1\\rangle\\big) = |+\\rangle$.\n",
    "Similarly, for a starting state $|1\\rangle$, $x_0=0$ and $x_1=1$, so the new state will be  $\\frac{1}{\\sqrt{2}} \\big(|0\\rangle -|1\\rangle\\big) = |-\\rangle$.\n",
    "\n",
    "We already know a gate that will do this: the Hadamard gate!"
   ]
  },
  {
   "cell_type": "code",
   "execution_count": 4,
   "id": "2c53b432",
   "metadata": {},
   "outputs": [
    {
     "data": {
      "application/json": "\"Success!\"",
      "text/plain": [
       "Success!"
      ]
     },
     "execution_count": 4,
     "metadata": {},
     "output_type": "execute_result"
    }
   ],
   "source": [
    "%kata T11_OneQubitQFT \n",
    "\n",
    "operation OneQubitQFT (q : Qubit) : Unit is Adj+Ctl {\n",
    "    H(q);\n",
    "}"
   ]
  },
  {
   "cell_type": "markdown",
   "id": "d64f6bb5",
   "metadata": {},
   "source": [
    "[Return to task 1.1 of the QFT kata.](./QFT.ipynb#Task-1.1.-1-qubit-QFT)"
   ]
  },
  {
   "cell_type": "markdown",
   "id": "04c97196",
   "metadata": {},
   "source": [
    "### Task 1.2. Rotation gate\n",
    "\n",
    "**Inputs:** \n",
    "\n",
    "  1. A qubit in state $|\\psi\\rangle = \\alpha |0\\rangle + \\beta |1\\rangle$.\n",
    "\n",
    "  2. An integer k $\\geq$ 0.\n",
    "\n",
    "**Goal:** \n",
    "\n",
    "Change the state of the qubit to $\\alpha |0\\rangle + \\beta \\cdot e^{\\frac{2\\pi i}{2^{k}}} |1\\rangle$.\n",
    "\n",
    "> Be careful about not introducing an extra global phase! \n",
    "This is going to be important in the later tasks."
   ]
  },
  {
   "cell_type": "markdown",
   "id": "9376e64d",
   "metadata": {},
   "source": [
    "### Solution\n",
    "\n",
    "Let's have a look at the gates available under the [Microsoft.Quantum.Intrinsic namespace](https://docs.microsoft.com/en-us/qsharp/api/qsharp/microsoft.quantum.intrinsic). \n",
    "\n",
    "To avoid adding the extra global phase, we have to use a gate that does not modify the $|0\\rangle$ state, and only impacts $|1\\rangle$: that is, $U|\\psi\\rangle = \\alpha|0\\rangle + \\beta \\cdot U|1\\rangle$.\n",
    "\n",
    "The [R1Frac gate](https://docs.microsoft.com/en-us/qsharp/api/qsharp/microsoft.quantum.intrinsic.r1frac) does exactly that:\n",
    "\n",
    "$$R1Frac(n,k) = \\begin{bmatrix} 1 & 0 \\\\ 0 & e^{i\\pi n/2^{k}} \\end{bmatrix} $$\n",
    "\n",
    "We specify $n=2$ to get the transformation required: \n",
    "\n",
    "$$R1Frac(2,k) = \\begin{bmatrix} 1 & 0 \\\\ 0 & e^{2\\pi i/2^{k}} \\end{bmatrix} $$"
   ]
  },
  {
   "cell_type": "code",
   "execution_count": 2,
   "id": "0ebbc88a",
   "metadata": {
    "scrolled": true
   },
   "outputs": [
    {
     "data": {
      "application/json": "\"Success!\"",
      "text/plain": [
       "Success!"
      ]
     },
     "execution_count": 2,
     "metadata": {},
     "output_type": "execute_result"
    }
   ],
   "source": [
    "%kata T12_Rotation \n",
    "\n",
    "operation Rotation (q : Qubit, k : Int) : Unit is Adj+Ctl {\n",
    "    R1Frac(2, k, q);\n",
    "}"
   ]
  },
  {
   "cell_type": "markdown",
   "id": "c218bd5a",
   "metadata": {},
   "source": [
    "[Return to task 1.2 of the QFT kata.](./QFT.ipynb#Task-1.2.-Rotation-gate)"
   ]
  },
  {
   "cell_type": "markdown",
   "id": "567b91f8",
   "metadata": {},
   "source": [
    "### Task 1.3. Prepare binary fraction exponent (classical input)\n",
    "\n",
    "**Inputs:** \n",
    "\n",
    "  1. A qubit in state $|\\psi\\rangle = \\alpha |0\\rangle + \\beta |1\\rangle$.\n",
    "\n",
    "  2. An array of $n$ bits $[j_1, j_2, ..., j_n]$, stored as `Int[]` ($ j_k \\in \\{0,1\\}$).\n",
    "\n",
    "**Goal:** \n",
    "\n",
    "Change the state of the qubit to $\\alpha |0\\rangle + \\beta \\cdot e^{2\\pi i \\cdot 0.j_1 j_2 ... j_n} |1\\rangle$,\n",
    "where $0.j_1 j_2 ... j_n$ is a binary fraction, similar to decimal fractions: \n",
    "\n",
    "$$0.j_1 j_2 ... j_n = j_1 \\cdot \\frac{1}{2^1} + j_2 \\cdot \\frac{1}{2^2} + ... j_n \\cdot \\frac{1}{2^n}$$\n"
   ]
  },
  {
   "cell_type": "markdown",
   "id": "506682f8",
   "metadata": {},
   "source": [
    "### Solution\n",
    "\n",
    "Since we can express the exponent of a sum as a product of exponents ($e^{a+b} = e^a \\cdot e^b$), we can implement the required transformation as a sequence of rotation gates from task 1.2 with increasing **k**. \n",
    "\n",
    "Each of the individual rotations will use the bit $j_k$ to decide whether to apply the rotation, and the index of that bit $k$ to define the rotation angle.\n",
    "Note that we only want to apply the rotation if the bit $j_k$ is not zero. \n",
    "This means that the gate we apply for each $k$ will be \n",
    "\n",
    "$$U_k = \\begin{cases}\n",
    "I, j_k=0 \\\\\n",
    "R1Frac(2,k), j_k=1\n",
    "\\end{cases}$$\n",
    "\n",
    "Recall that \n",
    "\n",
    "$$ R1Frac(2,k)\\big( \\alpha |0\\rangle + \\beta |1\\rangle\\big) = \\alpha |0\\rangle + \\beta \\cdot e^{2\\pi i/2^{k}} |1\\rangle = \\alpha |0\\rangle + \\beta \\cdot e^{2\\pi i \\cdot 0. \\underset{k-1}{\\underbrace{0\\dots0}} 1} |1\\rangle $$\n",
    "\n",
    "This means that we can write the overall effect of the gate $U_k$ for each $k$ as \n",
    "\n",
    "$$U_k\\big( \\alpha |0\\rangle + \\beta |1\\rangle\\big) = \\alpha |0\\rangle + \\beta \\cdot e^{2\\pi i \\cdot 0. \\underset{k-1}{\\underbrace{0\\dots0}} j_k} |1\\rangle$$\n",
    "\n",
    "As we iterate, the resulting state will get closer and closer to the required one:\n",
    "\n",
    "<table style=\"background-color: white; border:1px solid; tr  { background-color:transparent; }\">\n",
    "    <col width=100>\n",
    "    <col width=500>\n",
    "    <tr>\n",
    "        <th style=\"text-align:center; border:1px solid\">Step $k$</th>\n",
    "        <th style=\"text-align:center; border:1px solid\">State after step $k$</th>\n",
    "    </tr>\n",
    "    <tr>\n",
    "        <td style=\"text-align:center; border:1px solid\">$1$</td>\n",
    "        <td style=\"text-align:center; border:1px solid\">$$ \\alpha |0\\rangle + \\beta \\cdot e^{2\\pi i \\cdot 0.j_1} |1\\rangle $$</td>\n",
    "    </tr>      \n",
    "    <tr>\n",
    "        <td style=\"text-align:center; border:1px solid\">$2$</td>\n",
    "        <td style=\"text-align:center; border:1px solid\">$$\\alpha |0\\rangle + \\beta \\cdot e^{2\\pi i j_1 \\cdot 2^{-1} + 2\\pi i j_2 \\cdot 2^{-2}} |1\\rangle = \\alpha |0\\rangle + \\beta \\cdot e^{2\\pi i \\cdot 0.j_1j_2} |1\\rangle $$</td>\n",
    "    </tr>      \n",
    "    <tr>\n",
    "        <td style=\"text-align:center; border:1px solid\">...</td>\n",
    "        <td style=\"text-align:center; border:1px solid\">...</td>\n",
    "    </tr>      \n",
    "    <tr>\n",
    "        <td style=\"text-align:center; border:1px solid\">$n$</td>\n",
    "        <td style=\"text-align:center; border:1px solid\">$$\\alpha |0\\rangle + \\beta \\cdot e^{2\\pi i \\cdot 0.j_1j_2 \\dots j_n} |1\\rangle $$</td>\n",
    "    </tr>      \n",
    "</table>"
   ]
  },
  {
   "cell_type": "code",
   "execution_count": null,
   "id": "e5b7e7ae",
   "metadata": {},
   "outputs": [],
   "source": [
    "%kata T13_BinaryFractionClassical \n",
    "\n",
    "operation BinaryFractionClassical (q : Qubit, j : Int[]) : Unit is Adj+Ctl {\n",
    "    for ind in 0 .. Length(j) - 1 {\n",
    "        if (j[ind] == 1) {\n",
    "            Rotation(q, ind + 1);\n",
    "        }\n",
    "    }\n",
    "}"
   ]
  },
  {
   "cell_type": "markdown",
   "id": "5cd9b98c",
   "metadata": {},
   "source": [
    "[Return to task 1.3 of the QFT kata.](./QFT.ipynb#Task-1.3.-Prepare-binary-fraction-exponent-(classical-input))"
   ]
  },
  {
   "cell_type": "markdown",
   "id": "62bae412",
   "metadata": {},
   "source": [
    "### Task 1.4. Prepare binary fraction exponent (quantum input)\n",
    "\n",
    "**Inputs:** \n",
    "\n",
    "  1. A qubit in state $|\\psi\\rangle = \\alpha |0\\rangle + \\beta |1\\rangle$.\n",
    "\n",
    "  2. A register of $n$ qubits in state $|j_1 j_2 ... j_n\\rangle$.\n",
    "\n",
    "**Goal:** \n",
    "\n",
    "Change the state of the input\n",
    "from $(\\alpha |0\\rangle + \\beta |1\\rangle) \\otimes |j_1 j_2 ... j_n\\rangle$\n",
    "to $(\\alpha |0\\rangle + \\beta \\cdot e^{2\\pi i \\cdot 0.j_1 j_2 ... j_n} |1\\rangle) \\otimes |j_1 j_2 ... j_n\\rangle$,\n",
    "\n",
    "where $0.j_1 j_2 ... j_n$ is a binary fraction corresponding to the basis state $j_1 j_2 ... j_n$ of the register.\n",
    "\n",
    "> The register of qubits can be in superposition as well;\n",
    "the behavior in this case is defined by behavior on the basis states and the linearity of unitary transformations."
   ]
  },
  {
   "cell_type": "markdown",
   "id": "7232e235",
   "metadata": {},
   "source": [
    "### Solution\n",
    "From the goals section, you can see that the register of *n* qubits remains unchanged, while the qubit acquires a conditional phase that depends on the value of these bits. \n",
    "\n",
    "Because the register is now a quantum register and can be in a superposition of states, we cannot measure the register and then conditionally apply the operation depending on whether we measure a 1 or a 0. So, we have to convert our **Rotation** operation into a controlled operation. We can do this with the [**Controlled** functor](https://docs.microsoft.com/en-us/azure/quantum/user-guide/language/expressions/functorapplication#functor-application).\n",
    "\n",
    "The **Rotation** operation in 1.2 was defined to be both adjointable (Adj) and controllable (Ctl) so all we need to do is go through the qubits in the register and apply the rotation operation conditionally.\n",
    "\n",
    "A successive application of a *Controlled Rotation (controlqubit, (qubit, k))* operation will effect a controlled rotation operation *n* times, and transform the $\\alpha |0\\rangle + \\beta |1\\rangle$ state to $(\\alpha |0\\rangle + \\beta \\cdot e^{2\\pi i \\cdot 0.j_1 j_2 ... j_n} |1\\rangle)$, while leaving the register $|j_1 j_2 ... j_n\\rangle$ unchanged. \n",
    "\n"
   ]
  },
  {
   "cell_type": "code",
   "execution_count": null,
   "id": "2da5604e",
   "metadata": {},
   "outputs": [],
   "source": [
    "%kata T14_BinaryFractionQuantum \n",
    "\n",
    "operation BinaryFractionQuantum (q : Qubit, jRegister : Qubit[]) : Unit is Adj+Ctl {\n",
    "    for ind in 0 .. Length(jRegister) - 1 {\n",
    "        Controlled Rotation([jRegister[ind]], (q, ind + 1));\n",
    "    }\n",
    "}"
   ]
  },
  {
   "cell_type": "markdown",
   "id": "93385fb5",
   "metadata": {},
   "source": [
    "### Task 1.5. Prepare binary fraction exponent in place (quantum input)\n",
    "\n",
    "**Input:** \n",
    "\n",
    " A register of $n$ qubits in state $|j_1 j_2 ... j_n \\rangle$.\n",
    "\n",
    "**Goal:** \n",
    "\n",
    "Change the state of the register\n",
    "from $|j_1\\rangle \\otimes |j_2 ... j_n\\rangle$\n",
    "to $\\frac{1}{\\sqrt{2}} \\big(|0\\rangle + e^{2\\pi i \\cdot 0.j_1 j_2 ... j_n} |1\\rangle \\otimes |j_2 ... j_n\\rangle\\big)$.\n",
    "\n",
    "> The register of qubits can be in superposition as well;\n",
    "the behavior in this case is defined by behavior on the basis states and the linearity of unitary transformations.\n",
    "\n",
    "<details>\n",
    "  <summary><b>Need a hint? Click here</b></summary>\n",
    "  This task is very similar to task 1.4, but the digit $j_1$ is encoded in-place, using task 1.1.\n",
    "</details>"
   ]
  },
  {
   "cell_type": "markdown",
   "id": "4a600413",
   "metadata": {},
   "source": [
    "### Solution\n",
    "\n",
    "First, note that a Hadamard gate applied to a single qubit,  $H|j_1\\rangle$ will give either\n",
    "$\\frac{1}{\\sqrt{2}}(|0\\rangle+|1\\rangle)$ or $\\frac{1}{\\sqrt{2}}(|0\\rangle-|1\\rangle)$ depending on the state of $j_1$. This operation can also be written as\n",
    "$$H|j_1\\rangle= \\frac{1}{\\sqrt{2}} \\big(|0\\rangle + e^{2\\pi i \\cdot \\frac{j_1}{2}}|1\\rangle\\big)= \\frac{1}{\\sqrt{2}} \\big(|0\\rangle + e^{2\\pi i \\cdot 0.j_1}|1\\rangle\\big)$$\n",
    "\n",
    "Try it out on paper!\n",
    "\n",
    "So if the starting register state is $|j_1 j_2 ... j_n \\rangle$, application of a Hadamard gate to the first bit will result in:\n",
    "\n",
    "$$\\big(H_1\\otimes I_n \\big) \\big(|j_1\\rangle \\otimes |j_2 ... j_n\\rangle\\big)= \\frac{1}{\\sqrt{2}} \\big(|0\\rangle + e^{2\\pi i \\cdot 0.j_1}|1\\rangle\\big) \\otimes |j_2 ... j_n\\rangle $$\n",
    "\n",
    "After this, it is just a matter of repreating the loop that will add the remaining phase terms via the controlled rotation operator. \n",
    "\n",
    "After a repeat of the operations sequence in 1.4, applied to the first register qubit $j_1$, the qubit register's state will be $\\frac{1}{\\sqrt{2}} \\big(|0\\rangle + e^{2\\pi i \\cdot 0.j_1 j_2 ... j_n} |1\\rangle \\otimes |j_2 ... j_n\\rangle\\big)$\n",
    "\n"
   ]
  },
  {
   "cell_type": "code",
   "execution_count": 5,
   "id": "c0d13561",
   "metadata": {},
   "outputs": [
    {
     "data": {
      "application/json": "\"Success!\"",
      "text/plain": [
       "Success!"
      ]
     },
     "execution_count": 5,
     "metadata": {},
     "output_type": "execute_result"
    }
   ],
   "source": [
    "%kata T15_BinaryFractionQuantumInPlace \n",
    "\n",
    "operation BinaryFractionQuantumInPlace (register : Qubit[]) : Unit is Adj+Ctl {\n",
    "     OneQubitQFT(register[0]);\n",
    "    \n",
    "        for ind in 1 .. Length(register) - 1 {\n",
    "            Controlled Rotation([register[ind]], (register[0] , ind + 1));\n",
    "            \n",
    "        }\n",
    "        \n",
    "\n",
    "     \n",
    "}"
   ]
  },
  {
   "cell_type": "markdown",
   "id": "80a04aab",
   "metadata": {},
   "source": [
    "### Task 1.6. Reverse the order of qubits\n",
    "\n",
    "**Input:** \n",
    "\n",
    " A register of $n$ qubits in state $|x_1 x_2 ... x_n \\rangle$.\n",
    "\n",
    "**Goal:** \n",
    "\n",
    "Reverse the order of qubits, i.e., convert the state of the register to $|x_n ... x_2 x_1\\rangle$."
   ]
  },
  {
   "cell_type": "markdown",
   "id": "3491c4cc",
   "metadata": {},
   "source": [
    "### Solution\n",
    "\n",
    "Have a look at what the circuit looks like drawn out:\n",
    "\n",
    "![](./images/1.png)\n",
    "\n",
    "This will read as $|x_1 x_2 ... x_n \\rangle$. To reverse the order of the qubits, SWAP operations (denoted with X) must be implemented, switching out $x_1$ with $x_n$, $x_2$ with $x_n-1$ and so on:\n",
    "\n",
    "![](./images/2.png)\n",
    "\n",
    "After N/2 of these swaps, the states will now be: \n",
    "\n",
    "![](./images/3.png)\n",
    "\n",
    "And the state of the register will be $|x_n ... x_2 x_1\\rangle$.\n"
   ]
  },
  {
   "cell_type": "code",
   "execution_count": 6,
   "id": "34e30726",
   "metadata": {},
   "outputs": [
    {
     "data": {
      "application/json": "\"Success!\"",
      "text/plain": [
       "Success!"
      ]
     },
     "execution_count": 6,
     "metadata": {},
     "output_type": "execute_result"
    }
   ],
   "source": [
    "%kata T16_ReverseRegister \n",
    "\n",
    "operation ReverseRegister (register : Qubit[]) : Unit is Adj+Ctl {\n",
    "    let N = Length(register);\n",
    "    for ind in 0.. N/2-1{\n",
    "    SWAP(register[ind], register[N - 1 - ind]);\n",
    "    \n",
    "    }\n",
    "}"
   ]
  },
  {
   "cell_type": "markdown",
   "id": "d3228247",
   "metadata": {},
   "source": [
    "### Task 1.7. Quantum Fourier transform\n",
    "\n",
    "**Input:** \n",
    "\n",
    " A register of $n$ qubits in state $|j_1 j_2 ... j_n \\rangle$.\n",
    "\n",
    "**Goal:** \n",
    "\n",
    "Apply quantum Fourier transform to the input register, i.e., transform it to a state\n",
    "\n",
    "$$\\frac{1}{\\sqrt{2^{n}}} \\sum_{k=0}^{n-1} e^{2\\pi i \\cdot \\frac{jk}{2^{n}}} |k\\rangle = $$\n",
    "$$\\begin{align}= &\\frac{1}{\\sqrt{2}} \\big(|0\\rangle + e^{2\\pi i \\cdot 0.j_n} |1\\rangle\\big) \\otimes \\\\\n",
    "\\otimes &\\frac{1}{\\sqrt{2}} \\big(|0\\rangle + e^{2\\pi i \\cdot 0.j_{n-1} j_n} |1\\rangle\\big) \\otimes ... \\\\\n",
    "\\otimes &\\frac{1}{\\sqrt{2}} \\big(|0\\rangle + e^{2\\pi i \\cdot 0.j_1 j_2 ... j_{n-1} j_n} |1\\rangle\\big)\\end{align}$$\n",
    "\n",
    "> The register of qubits can be in superposition as well;\n",
    "the behavior in this case is defined by behavior on the basis states and the linearity of unitary transformations.\n",
    "\n",
    "> You can do this with a library call, but we recommend\n",
    "implementing the algorithm yourself for learning purposes, using the previous tasks.\n",
    "\n",
    "\n",
    "<details>\n",
    "  <summary><b>Need a hint? Click here</b></summary>\n",
    "Consider preparing a different state first and transforming it to the goal state:\n",
    "\n",
    "$\\frac{1}{\\sqrt{2}} (|0\\rangle + exp(2\\pi i * 0.j_1 j_2 ... j_{n-1} j_n) |1\\rangle) \\otimes ... \\otimes$\n",
    "$\\otimes \\frac{1}{\\sqrt{2}} (|0\\rangle + exp(2\\pi i * 0.j_{n-1} j_n) |1\\rangle) \\otimes$\n",
    "$\\otimes \\frac{1}{\\sqrt{2}} (|0\\rangle + exp(2\\pi i * 0.j_n) |1\\rangle) \\otimes$\n",
    "</details>"
   ]
  },
  {
   "cell_type": "markdown",
   "id": "bc30eae5",
   "metadata": {},
   "source": [
    "### Solution\n",
    "\n",
    "You've already found a way to prepare a binary fraction exponent in place from exercise 1.5: the state $\\frac{1}{\\sqrt{2}} \\big(|0\\rangle + e^{2\\pi i \\cdot 0.j_1 j_2 ... j_n} |1\\rangle\\big) \\otimes |j_2 ... j_n\\rangle$ can be created by first applying the Hadamard gate to qubit $j_1$, then applying a succession of controlled rotations using qubits $j_k$ with increasing values of k, such that an additional phase term all the way up to $e^{2\\pi i \\cdot j_n/2^{n}}$ is added on each time. \n",
    "\n",
    "A Hadamard gate on $j_1$, followed by successive application of the rotation gate as explained above covers the creation of the $\\frac{1}{\\sqrt{2}} \\big(|0\\rangle + e^{2\\pi i \\cdot 0.j_1 j_2 ... j_{n-1} j_n} |1\\rangle\\big)\\otimes |j_2 ... j_n\\rangle$ state. \n",
    "\n",
    "To create the remaining states, work backwards from this state. You can always reverse the order of the states using the operator in 1.6.\n",
    "\n",
    "The next state in the sequence will be $\\frac{1}{\\sqrt{2}} \\big(|0\\rangle + e^{2\\pi i \\cdot 0.j_2 ... j_{n-1} j_n} |1\\rangle\\big)$. \n",
    "\n",
    "This is done by applying a Hadamard gate to qubit $j_2$ and then using qubits $j_3$ to $j_n$ to apply $n-1$ controlled rotation gates with $k=2^2$ to $k=2^{n-1}$ to $j_2$. After this operation, the total system state will be: \n",
    "\n",
    "$ \\frac{1}{\\sqrt{2}} \\big(|0\\rangle + e^{2\\pi i \\cdot 0.j_1 j_2 ... j_{n-1} j_n} |1\\rangle\\big)\\otimes\n",
    "\\frac{1}{\\sqrt{2}} \\big(|0\\rangle + e^{2\\pi i \\cdot 0.j_2 ... j_{n-1} j_n} |1\\rangle\\big) \\otimes |j_3 ... j_n\\rangle$\n",
    "\n",
    "This creates a pattern. For any qubit $j_k, k= 1 .. n$ :\n",
    "\n",
    "1. Apply a Hadamard gate to $j_k$\n",
    "2. Apply the controlled rotation operator $n-k$ times to qubit $j_k$, using qubits $j_k+1$ through $j_n$ as the control, with a phase corresponding to $2^2$ through $2^{n-k+1}$\n",
    "\n",
    "These two steps, applied for each qubit, create an operator $U$. The effect of the operation $U$ is to create a total system state:  \n",
    "\n",
    "$$ U|j_1 j_2 ... j_n \\rangle= \\frac{1}{\\sqrt{2}} \\big(|0\\rangle + e^{2\\pi i \\cdot 0.j_1 j_2 ... j_{n-1} j_n} |1\\rangle\\big)\\otimes \\\\ \\frac{1}{\\sqrt{2}} \\big(|0\\rangle + e^{2\\pi i \\cdot 0.j_2 ... j_{n-1} j_n} |1\\rangle\\big)\\otimes \\\\ \\frac{1}{\\sqrt{2}} \\big(|0\\rangle + e^{2\\pi i \\cdot 0.j_3 ... j_{n-1} j_n} |1\\rangle\\big)\\otimes ... \\\\\n",
    "\\otimes \\frac{1}{\\sqrt{2}} \\big(|0\\rangle + e^{2\\pi i \\cdot 0.j_n} |1\\rangle\\big)\n",
    "$$\n",
    "\n",
    "The system state can then be flipped using the code created in 1.6.\n",
    "\n",
    "A circuit summary of this process: <br>\n",
    "<br>\n",
    "\n",
    "![](./images/qft.png)"
   ]
  },
  {
   "cell_type": "code",
   "execution_count": 7,
   "id": "44ae4dfc",
   "metadata": {},
   "outputs": [
    {
     "data": {
      "application/json": "\"Success!\"",
      "text/plain": [
       "Success!"
      ]
     },
     "execution_count": 7,
     "metadata": {},
     "output_type": "execute_result"
    }
   ],
   "source": [
    "%kata T17_QuantumFourierTransform \n",
    "\n",
    "operation QuantumFourierTransform (register : Qubit[]) : Unit is Adj+Ctl {\n",
    "    let n = Length(register);\n",
    "        for i in 0 .. n - 1 {\n",
    "            BinaryFractionQuantumInPlace(register[i ...]);\n",
    "        }\n",
    "        ReverseRegister(register);\n",
    "}"
   ]
  },
  {
   "cell_type": "markdown",
   "id": "cd5b4f55",
   "metadata": {},
   "source": [
    "### Task 1.8. Inverse QFT\n",
    "\n",
    "**Input:** \n",
    "\n",
    " A register of $n$ qubits in state $|j_1 j_2 ... j_n \\rangle$.\n",
    "\n",
    "**Goal:** \n",
    "\n",
    "Apply inverse QFT to the input register, i.e., transform it to a state \n",
    "$\\frac{1}{\\sqrt{2^{n}}} \\sum_{k=0}^{n-1} e^{-2\\pi i \\cdot \\frac{jk}{2^{n}}} |k\\rangle$.\n",
    "\n",
    "<details>\n",
    "  <summary><b>Need a hint? Click here</b></summary>\n",
    "Inverse QFT is literally the inverse transformation of QFT.\n",
    "Do you know a quantum way to express this?\n",
    "</details>"
   ]
  },
  {
   "cell_type": "markdown",
   "id": "d266b4ba",
   "metadata": {},
   "source": [
    "### Solution\n",
    "\n",
    "Have a look at the documentation on the [Adjoint Functor](https://docs.microsoft.com/en-us/azure/quantum/user-guide/language/expressions/functorapplication#functor-application).\n",
    "For an operation that defines a unitary transformation $U$ of the quantum state, Adjoint $U$ accesses the implementation of $U^{\\dagger}$."
   ]
  },
  {
   "cell_type": "code",
   "execution_count": null,
   "id": "5f5b13ea",
   "metadata": {},
   "outputs": [],
   "source": [
    "%kata T18_InverseQFT \n",
    "\n",
    "operation InverseQFT (register : Qubit[]) : Unit is Adj+Ctl {\n",
    "    Adjoint QuantumFourierTransform(register);\n",
    "}"
   ]
  },
  {
   "cell_type": "markdown",
   "id": "063cf2cc",
   "metadata": {},
   "source": [
    "## Part II. Using the Quantum Fourier Transform\n",
    "\n",
    "This section offers you tasks on state preparation and state analysis \n",
    "that can be solved using QFT (or inverse QFT). It is possible to solve them \n",
    "without QFT, but we recommend that you to try and come up with a QFT-based solution."
   ]
  },
  {
   "cell_type": "markdown",
   "id": "2991039b",
   "metadata": {},
   "source": [
    "### Task 2.1. Prepare an equal superposition of all basis states\n",
    "\n",
    "**Input:** \n",
    "\n",
    "A register of $n$ qubits in state $|0...0\\rangle$.\n",
    "\n",
    "**Goal:** \n",
    "\n",
    "Prepare an equal superposition of all basis vectors from $|0...0\\rangle$ to $|1...1\\rangle$ \n",
    "(i.e., state $\\frac{1}{\\sqrt{2^{n}}} \\big(|0...0\\rangle + ... + |1...1\\rangle\\big)$."
   ]
  },
  {
   "cell_type": "markdown",
   "id": "0d2c675f",
   "metadata": {},
   "source": [
    "### Solution\n",
    "\n",
    "Since the QFT of the state $|0...0\\rangle$ is simply the superposition of all basis states, this exercise can be solved by simply calling the QFT library function.\n",
    "Note that the library QFT function operates on a big endian register, so the input register is converted to a big endian type register first. All this does is ensure that the qubit with index 0 encodes the highest bit of an unsigned integer, becoming the state $\\frac{1}{\\sqrt{2}} \\big(|0\\rangle + e^{2\\pi i \\cdot 0.j_1 j_2 ... j_{n-1} j_n} |1\\rangle\\big)$ or $\\frac{1}{\\sqrt{2}} \\big(|0\\rangle + e^{2\\pi i \\cdot \\frac{\\textbf{j}}{2^{n}}}|1\\rangle\\big)$"
   ]
  },
  {
   "cell_type": "code",
   "execution_count": null,
   "id": "db3d7a05",
   "metadata": {},
   "outputs": [],
   "source": [
    "%kata T21_PrepareEqualSuperposition \n",
    "\n",
    "operation PrepareEqualSuperposition (register : Qubit[]) : Unit is Adj+Ctl {\n",
    "    QFT(BigEndian(register));\n",
    "}"
   ]
  },
  {
   "cell_type": "markdown",
   "id": "8ef729fd",
   "metadata": {},
   "source": [
    "### Task 2.2. Prepare a periodic state\n",
    "\n",
    "**Inputs:**\n",
    "\n",
    "  1. A register of $n$ qubits in state $|0...0\\rangle$.\n",
    "\n",
    "  2. An integer frequency F ($0 \\leq F \\leq 2^{n}-1$).\n",
    "\n",
    "**Goal:**\n",
    "\n",
    "Prepare a periodic state with frequency F on this register:\n",
    "\n",
    "$$\\frac{1}{\\sqrt{2^{n}}} \\sum_k e^{2\\pi i \\cdot \\frac{Fk}{2^{n}}} |k\\rangle$$\n",
    "\n",
    "> For example, for $n = 2$ and $F = 1$ the goal state is $\\frac{1}{2}\\big(|0\\rangle + i|1\\rangle - |2\\rangle - i|3\\rangle\\big)$.\n",
    "\n",
    "> If you're using `DumpMachine` to debug your solution, \n",
    "remember that this kata uses big endian encoding of states,\n",
    "while `DumpMachine` uses little endian encoding.\n",
    "\n",
    "<details>\n",
    "  <summary><b>Need a hint? Click here</b></summary>\n",
    "Which basis state can be mapped to this state using QFT?\n",
    "</details>"
   ]
  },
  {
   "cell_type": "markdown",
   "id": "df2f97bf",
   "metadata": {},
   "source": [
    "### Solution\n",
    "\n",
    "Recall the definition of the QFT: \n",
    "\n",
    "For a state $|j\\rangle$ that is one of the basis of states $\\{|0\\rangle, |1\\rangle...|N-1\\rangle\\}$  $\\epsilon$ $|k\\rangle$, the QFT can be defined as \n",
    "\n",
    "$$ QFT|j\\rangle= \\frac{1}{\\sqrt{2^n}} \\sum_{k=1}^{2^{n}-1} e^{2\\pi i j k/2^{n}} |k\\rangle$$\n",
    "\n",
    "You can see that $F = j$. To apply the QFT an create a periodic state, the integer value of $F$ must be converted into a binary representation in the register. You can check that this is the case by writing $F=|j_1j_2\\rangle = |01\\rangle$ and working through the QFT operation to produce the state $\\frac{1}{2}\\big(|0\\rangle + i|1\\rangle - |2\\rangle - i|3\\rangle\\big)$.\n",
    "\n",
    "\n",
    "<details>\n",
    "  <summary><b>Click to view steps </b></summary>\n",
    "\n",
    "For $n=2$, $N=4$ and so: \n",
    "\n",
    " $$QFT |1\\rangle = \\frac{1}{\\sqrt{2}} \\big(|0\\rangle + e^{2\\pi i \\cdot 0.j_2} |1\\rangle\\big) \\otimes \\frac{1}{\\sqrt{2}} \\big(|0\\rangle + e^{2\\pi i \\cdot 0.j_1j_2} |1\\rangle\\big) = \\\\\n",
    " |00\\rangle+ |01\\rangle e^{2\\pi i \\cdot 0.j_1j_2}+ |10\\rangle e^{2\\pi i \\cdot 0.j_2}+ |11\\rangle e^{2\\pi i \\cdot (0.j_1j_2 + 0.j_2)}$$\n",
    " \n",
    " Evaluating for $j_1=0$ and $j_2=1$ will give $\\frac{1}{2}\\big(|0\\rangle + i|1\\rangle - |2\\rangle - i|3\\rangle\\big)$.\n",
    "    \n",
    "</details>\n",
    "\n",
    "In creating the code, make sure that you pay attention to whether library functions use little or big endian!  In particular, IntAsBoolArray uses little endian encoding, so the result must be reversed. "
   ]
  },
  {
   "cell_type": "code",
   "execution_count": null,
   "id": "33cb4c67",
   "metadata": {},
   "outputs": [],
   "source": [
    "%kata T22_PreparePeriodicState \n",
    "\n",
    "operation PreparePeriodicState (register : Qubit[], F : Int) : Unit is Adj+Ctl {\n",
    "        \n",
    "        let bitsBE = Reversed(IntAsBoolArray(F, Length(register)));\n",
    "        ApplyPauliFromBitString(PauliX, true, bitsBE, register);\n",
    "\n",
    "        QFT(BigEndian(register));\n",
    "}"
   ]
  },
  {
   "cell_type": "markdown",
   "id": "241b603e",
   "metadata": {},
   "source": [
    "### Task 2.3. Prepare a periodic state with alternating $1$ and $-1$ amplitudes\n",
    "\n",
    "**Input:**\n",
    "\n",
    "A register of $n$ qubits in state $|0...0\\rangle$.\n",
    "\n",
    "**Goal:**\n",
    "\n",
    "Prepare a periodic state with alternating $1$ and $-1$ amplitudes of basis states:\n",
    "\n",
    "$$\\frac{1}{\\sqrt{2^{n}}} \\big(|0\\rangle - |1\\rangle + |2\\rangle - |3\\rangle + ... - |2^{n}-1\\rangle\\big)$$\n",
    "\n",
    "> For example, for $n = 2$ the goal state is $\\frac{1}{2} \\big(|0\\rangle - |1\\rangle + |2\\rangle - |3\\rangle\\big)$.\n",
    "\n",
    "<details>\n",
    "  <summary><b>Need a hint? Click here</b></summary>\n",
    "Which basis state can be mapped to this state using QFT?  Which frequency would allow you to use task 2.2 here?\n",
    "</details>"
   ]
  },
  {
   "cell_type": "markdown",
   "id": "b9123252",
   "metadata": {},
   "source": [
    "### Solution \n",
    "\n",
    "Because there is no imagimary part to this state, it is clear that the value of exponents for an arbitrary state  $\\frac{1}{\\sqrt{2}} \\big(|0\\rangle + e^{2\\pi i \\cdot 0...j_n} |1\\rangle\\big)$ must be either $2\\pi i$ for a coefficient of 1 or $\\pi i$ for a coefficient of -1. This means that only $j_1$ can have a value of 1: all other register qubits must be in the $|0...0\\rangle$ state. \n",
    "\n",
    "To prepare this state, you can apply an X gate to the first qubit of the register, either as X(qubit[0]) or as X(Head(register)). The *Head* function returns the first element of an array. "
   ]
  },
  {
   "cell_type": "code",
   "execution_count": null,
   "id": "335360ae",
   "metadata": {},
   "outputs": [],
   "source": [
    "%kata T23_PrepareAlternatingState \n",
    "\n",
    "operation PrepareAlternatingState (register : Qubit[]) : Unit is Adj+Ctl {\n",
    "    X(Head(register));\n",
    "\n",
    "    QFT(BigEndian(register));\n",
    "    \n",
    "\n",
    "}\n",
    "\n"
   ]
  },
  {
   "cell_type": "markdown",
   "id": "43b12f70",
   "metadata": {},
   "source": [
    "### Task 2.4. Prepare an equal superposition of all even basis states\n",
    "\n",
    "**Input:** \n",
    "\n",
    "A register of $n$ qubits in state $|0...0\\rangle$.\n",
    "\n",
    "**Goal:** \n",
    "\n",
    "Prepare an equal superposition of all even basis vectors:\n",
    "$\\frac{1}{\\sqrt{2^{n-1}}} \\big(|0\\rangle + |2\\rangle + ... + |2^{n}-2\\rangle\\big)$.\n",
    "\n",
    "<details>\n",
    "  <summary><b>Need a hint? Click here</b></summary>\n",
    "Which superposition of two basis states can be mapped to this state using QFT?\n",
    "    Use the solutions to tasks 2.1 and 2.3 to figure out the answer.\n",
    "</details>"
   ]
  },
  {
   "cell_type": "markdown",
   "id": "2b108646",
   "metadata": {},
   "source": [
    "### Solution\n",
    "You can see that the superposition of two states will give this result. If the periodic state of 2.3 is added to a simple QFT of the $|0....0\\rangle$ given in 2.1,\n",
    "\n",
    "$$\\frac{1}{\\sqrt{2^{n-1}}} \\big(|0\\rangle + |2\\rangle + ... + |2^{n}-2\\rangle\\big)= \\frac{1}{\\sqrt{2^{n}}} \\big(|0\\rangle - |1\\rangle + |2\\rangle - |3\\rangle + ... - |2^{n}-1\\rangle\\big) + \\frac{1}{\\sqrt{2^{n}}} \\big(|0\\rangle +|1\\rangle + |2\\rangle + |3\\rangle + ... + |2^{n}-1\\rangle\\big)$$\n",
    "\n",
    "The periodic state of 2.3 is created by applying the QFT to the $|100...0\\rangle$ state, while the state of 2.1 is created by applying the QFT to the $|000...0\\rangle$ state. To do both of these simultaneously and observe the cancellation effect, we can use the power of superpositions. Namely. we can create a superposition of the form:\n",
    "\n",
    "$$ \\frac{1}{\\sqrt{2^{n}}} \\big(|0\\rangle + |1\\rangle\\big) \\otimes |000...0\\rangle $$\n",
    "This can be done by applying a Hadamard gate to the first qubit in the register.\n",
    "Then, by applying the QFT to the entire register, you will get: \n",
    "\n",
    "$$ QFT\\big(\\frac{1}{\\sqrt{2^{n}}} (|0\\rangle + |1\\rangle) \\otimes |000...0\\rangle\\big)= QFT\\big(\\frac{1}{\\sqrt{2^{n}}} \\big(|000...0\\rangle\\big)|\\big)+ QFT\\big(\\frac{1}{\\sqrt{2^{n}}} \\big(|100...0\\rangle\\big)\\big)$$\n",
    "\n",
    "This results in the desired end state. "
   ]
  },
  {
   "cell_type": "code",
   "execution_count": null,
   "id": "bade6d76",
   "metadata": {},
   "outputs": [],
   "source": [
    "%kata T24_PrepareEqualSuperpositionOfEvenStates \n",
    "\n",
    "operation PrepareEqualSuperpositionOfEvenStates (register : Qubit[]) : Unit is Adj+Ctl {\n",
    "\n",
    "    H(Head(register));\n",
    "    QFT(BigEndian(register));\n",
    "}\n",
    "\n"
   ]
  },
  {
   "cell_type": "markdown",
   "id": "129446e3",
   "metadata": {},
   "source": [
    "### Task 2.5. Prepare a square-wave signal\n",
    "\n",
    "**Input:** \n",
    "\n",
    "A register of $n\\geq2$ qubits in state $|0...0\\rangle$.\n",
    "\n",
    "**Goal:** \n",
    "\n",
    "Prepare a periodic state with alternating $1, 1, -1, -1$ amplitudes of basis states:\n",
    "$$\\frac{1}{\\sqrt{2^{n}}} \\big(|0\\rangle + |1\\rangle - |2\\rangle - |3\\rangle + ... - |2^{n}-2\\rangle - |2^{n}-1\\rangle\\big)$$\n",
    "\n",
    "<details>\n",
    "  <summary><b>Need a hint? Click here</b></summary>\n",
    "Which superposition of two basis states can be mapped to this state using QFT?\n",
    "    Remember that sum of two complex amplitudes can be a real number if their imaginary parts cancel out.\n",
    "</details>"
   ]
  },
  {
   "cell_type": "markdown",
   "id": "440bf2ee",
   "metadata": {},
   "source": [
    "### Solution\n",
    "\n",
    "\n",
    "\n",
    "Writing out the state that we want to achieve will give:\n",
    "\n",
    "$$ |0...00\\rangle + |0...01\\rangle - |0...10\\rangle - |0...11\\rangle $$\n",
    "Written as a tensor product of single-qubit states, this gives:\n",
    "\n",
    "$$\\frac{1}{\\sqrt{2^{n}}} \\big(|0\\rangle + |1\\rangle) \\otimes (|0\\rangle + |1\\rangle) ... \\otimes (|0\\rangle - |1\\rangle) \\otimes (|0\\rangle + |1\\rangle)$$\n",
    "\n",
    "When expanded, this will give the state required: alternating positive and negative states with a period of 2.\n",
    "\n",
    "This superposition state can be created by setting only $j_2$ to be 1, then applying the QFT. This will add the required phase of -1 on the second-to-last bit, but will also add a phase term of $i$ on the last bit.\n",
    "$$QFT(|010...0\\rangle) = \\frac{1}{\\sqrt{2^{n}}}  \\big(|0\\rangle + |1\\rangle) \\otimes (|0\\rangle + |1\\rangle) ... \\otimes (|0\\rangle - |1\\rangle) \\otimes (|0\\rangle + i|1\\rangle)$$\n",
    "To counter this last phase term, we need cancel out that last $i$ in some form. This can be achieved by creating a superposition state $\\frac{e^{(-i\\pi/4)}}{\\sqrt{2^{n}}} |010...0\\rangle + \\frac{e^{(i\\pi/4)}}{\\sqrt{2^{n}}} |110...0\\rangle$.\n",
    "\n",
    "Then,\n",
    "\n",
    "$$ QFT\\big(\\frac{e^{(-i\\pi/4)}}{\\sqrt{2^{n}}} |010...0\\rangle + \\frac{e^{(i\\pi/4)}}{\\sqrt{2^{n}}} |110...0\\rangle\\big) = \\\\\n",
    "\\frac{(1-i)}{\\sqrt{2^{n}}} \\big( |0\\rangle + |1\\rangle) \\otimes (|0\\rangle + |1\\rangle)... |0\\rangle - |1\\rangle) \\otimes (|0\\rangle + i|1\\rangle)  \\big) + \\\\\n",
    "\\frac{(1+i)}{\\sqrt{2^{n}}} \\big( |0\\rangle + |1\\rangle) \\otimes (|0\\rangle + |1\\rangle)... |0\\rangle - |1\\rangle) \\otimes (|0\\rangle - i|1\\rangle)  \\big) $$\n",
    " \n",
    " This gives a final state of $$\\frac{1}{\\sqrt{2^{n}}} \\big(|0\\rangle + |1\\rangle) \\otimes (|0\\rangle + |1\\rangle) ... \\otimes (|0\\rangle - |1\\rangle) \\otimes (|0\\rangle + |1\\rangle)$$\n",
    " \n",
    " Creating the required superposition state is fairly easy; it can be done by using the [T gate](https://docs.microsoft.com/en-us/qsharp/api/qsharp/microsoft.quantum.intrinsic.t) and its adjoint. \n",
    " You can use the within...apply statements to avoid writing down the X() operator twice. \n"
   ]
  },
  {
   "cell_type": "code",
   "execution_count": null,
   "id": "6d3efda4",
   "metadata": {},
   "outputs": [],
   "source": [
    "%kata T25_PrepareSquareWaveSignal \n",
    "\n",
    "operation PrepareSquareWaveSignal (register : Qubit[]) : Unit is Adj+Ctl {\n",
    "        X(register[1]);\n",
    "        // |010...0⟩\n",
    "        H(register[0]);\n",
    "        // |010...0⟩ + |110...0⟩\n",
    "        T(register[0]);\n",
    "        within { X(register[0]); }\n",
    "        apply { Adjoint T(register[0]); }\n",
    "\n",
    "        QFT(BigEndian(register));\n",
    "}"
   ]
  },
  {
   "cell_type": "markdown",
   "id": "11187165",
   "metadata": {},
   "source": [
    "### Task 2.6. Get the frequency of a signal\n",
    "\n",
    "**Input:** \n",
    "\n",
    "A register of $n\\geq2$ qubits in state \n",
    "$\\frac{1}{\\sqrt{2^{n}}} \\sum_k e^{2\\pi i \\cdot \\frac{Fk}{2^{n}}} |k\\rangle$, $0\\leq F\\leq 2^{n}-1$.\n",
    "\n",
    "**Goal:** \n",
    "\n",
    "Return the frequency F of the \"signal\" encoded in this state."
   ]
  },
  {
   "cell_type": "markdown",
   "id": "783bf320",
   "metadata": {},
   "source": [
    "## Solution\n",
    "\n",
    "The original Fourier transform will give a time-domain signal's decomposition in the frequency domain, and the inverse Fourier transform will give a frequency-domain signal's time-domain representation.\n",
    "\n",
    "Keeping this in mind, if we already have the QFT of a state *F* in standard format, the value of *F* can be found by applying the inverse QFT to this register and then measuring the qubits. Since the [QFT](https://docs.microsoft.com/en-us/qsharp/api/qsharp/microsoft.quantum.canon.qft) operation is adjointable, this is very easy to do. \n",
    "\n",
    "Note that the iQFT takes a big endian register as input, but the  **[ResultArrayAsInt](https://docs.microsoft.com/en-us/qsharp/api/qsharp/microsoft.quantum.convert.resultarrayasint)** function produces a non-negative integer in little endian format. "
   ]
  },
  {
   "cell_type": "code",
   "execution_count": null,
   "id": "2e013db6",
   "metadata": {},
   "outputs": [],
   "source": [
    " %kata T26_Frequency \n",
    "\n",
    "operation Frequency (register : Qubit[]) : Int {\n",
    "         Adjoint QFT(BigEndian(register));\n",
    "        let bitsBE = MultiM(register);\n",
    "        return ResultArrayAsInt(Reversed(bitsBE));\n",
    "        }\n",
    "        \n",
    "        "
   ]
  },
  {
   "cell_type": "code",
   "execution_count": null,
   "id": "a8af5e74",
   "metadata": {},
   "outputs": [],
   "source": []
  }
 ],
 "metadata": {
  "kernelspec": {
   "display_name": "Q#",
   "language": "qsharp",
   "name": "iqsharp"
  },
  "language_info": {
   "file_extension": ".qs",
   "mimetype": "text/x-qsharp",
   "name": "qsharp",
   "version": "0.14"
  }
 },
 "nbformat": 4,
 "nbformat_minor": 5
}
